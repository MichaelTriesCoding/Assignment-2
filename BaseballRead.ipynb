{
  "nbformat": 4,
  "nbformat_minor": 0,
  "metadata": {
    "colab": {
      "provenance": [],
      "mount_file_id": "18ki2mPrebH7iQADlY9zwGFFXxLRLMt7X",
      "authorship_tag": "ABX9TyMVtMWAOReqwBIhPTDDZ/Mz",
      "include_colab_link": true
    },
    "kernelspec": {
      "name": "python3",
      "display_name": "Python 3"
    },
    "language_info": {
      "name": "python"
    }
  },
  "cells": [
    {
      "cell_type": "markdown",
      "metadata": {
        "id": "view-in-github",
        "colab_type": "text"
      },
      "source": [
        "<a href=\"https://colab.research.google.com/github/MichaelTriesCoding/Assignment-2/blob/main/BaseballRead.ipynb\" target=\"_parent\"><img src=\"https://colab.research.google.com/assets/colab-badge.svg\" alt=\"Open In Colab\"/></a>"
      ]
    },
    {
      "cell_type": "code",
      "source": [
        "import pandas as pd\n",
        "import numpy as np\n",
        "import matplotlib.pyplot as plt\n",
        "\n",
        "\n",
        "df = pd.read_csv(\"/content/drive/MyDrive/Baseball/Player1_BlastMotion.csv\", encoding='unicode_escape', skiprows=7) # try a different encoding like latin-1\n",
        "#filename = \"/content/drive/MyDrive/Baseball/Player1_BlastMotion.csv\"\n",
        "df.head()\n",
        "df.info()"
      ],
      "metadata": {
        "colab": {
          "base_uri": "https://localhost:8080/"
        },
        "id": "-cGQdARlaein",
        "outputId": "f81d7ab3-6ae0-4e5d-f3bf-1bdc313a930d"
      },
      "execution_count": 15,
      "outputs": [
        {
          "output_type": "stream",
          "name": "stdout",
          "text": [
            "<class 'pandas.core.frame.DataFrame'>\n",
            "RangeIndex: 598 entries, 0 to 597\n",
            "Data columns (total 20 columns):\n",
            " #   Column                       Non-Null Count  Dtype  \n",
            "---  ------                       --------------  -----  \n",
            " 0   Date                         598 non-null    object \n",
            " 1   Equipment                    598 non-null    object \n",
            " 2   Handedness                   598 non-null    object \n",
            " 3   Swing Details                598 non-null    object \n",
            " 4   Plane Score                  598 non-null    int64  \n",
            " 5   Connection Score             598 non-null    int64  \n",
            " 6   Rotation Score               598 non-null    int64  \n",
            " 7   Bat Speed (mph)              598 non-null    float64\n",
            " 8   Rotational Acceleration (g)  598 non-null    float64\n",
            " 9   On Plane Efficiency (%)      598 non-null    int64  \n",
            " 10  Attack Angle (deg)           598 non-null    int64  \n",
            " 11  Early Connection (deg)       598 non-null    int64  \n",
            " 12  Connection at Impact (deg)   598 non-null    int64  \n",
            " 13  Vertical Bat Angle (deg)     598 non-null    int64  \n",
            " 14  Power (kW)                   598 non-null    float64\n",
            " 15  Time to Contact (sec)        598 non-null    float64\n",
            " 16  Peak Hand Speed (mph)        598 non-null    float64\n",
            " 17  Exit Velocity (mph)          0 non-null      float64\n",
            " 18  Launch Angle (deg)           0 non-null      float64\n",
            " 19  Estimated Distance (feet)    0 non-null      float64\n",
            "dtypes: float64(8), int64(8), object(4)\n",
            "memory usage: 93.6+ KB\n"
          ]
        }
      ]
    },
    {
      "cell_type": "code",
      "source": [
        "df.columns = ['Date', 'Equipment', 'BatterSide','Environment', 'PlaneScore', 'ConnectionScore', 'RotationScore', 'BatSpeed','RotationalAcceleration', 'OnPlaneEfficiency', 'AttackAngle','EarlyConnection','ConnectionAtImpact', 'VerticalBatAverage','Power','TimeToContact','PeakHandSpeed','ExitVelocity','LaunchAngle','EstimatedDistance']\n",
        "df.info()"
      ],
      "metadata": {
        "colab": {
          "base_uri": "https://localhost:8080/"
        },
        "id": "dwLA7ifRc7kC",
        "outputId": "e552c3fd-a36a-43c9-c0af-21165f79b344"
      },
      "execution_count": 20,
      "outputs": [
        {
          "output_type": "stream",
          "name": "stdout",
          "text": [
            "<class 'pandas.core.frame.DataFrame'>\n",
            "RangeIndex: 598 entries, 0 to 597\n",
            "Data columns (total 20 columns):\n",
            " #   Column                  Non-Null Count  Dtype  \n",
            "---  ------                  --------------  -----  \n",
            " 0   Date                    598 non-null    object \n",
            " 1   Equipment               598 non-null    object \n",
            " 2   BatterSide              598 non-null    object \n",
            " 3   Environment             598 non-null    object \n",
            " 4   PlaneScore              598 non-null    int64  \n",
            " 5   ConnectionScore         598 non-null    int64  \n",
            " 6   RotationScore           598 non-null    int64  \n",
            " 7   BatSpeed                598 non-null    float64\n",
            " 8   RotationalAcceleration  598 non-null    float64\n",
            " 9   OnPlaneEfficiency       598 non-null    int64  \n",
            " 10  AttackAngle             598 non-null    int64  \n",
            " 11  EarlyConnection         598 non-null    int64  \n",
            " 12  ConnectionAtImpact      598 non-null    int64  \n",
            " 13  VerticalBatAverage      598 non-null    int64  \n",
            " 14  Power                   598 non-null    float64\n",
            " 15  TimeToContact           598 non-null    float64\n",
            " 16  PeakHandSpeed           598 non-null    float64\n",
            " 17  ExitVelocity            0 non-null      float64\n",
            " 18  LaunchAngle             0 non-null      float64\n",
            " 19  EstimatedDistance       0 non-null      float64\n",
            "dtypes: float64(8), int64(8), object(4)\n",
            "memory usage: 93.6+ KB\n"
          ]
        }
      ]
    },
    {
      "cell_type": "code",
      "source": [
        "AVG_BatSpeed = df[\"BatSpeed\"].mean()\n",
        "print(AVG_BatSpeed)"
      ],
      "metadata": {
        "colab": {
          "base_uri": "https://localhost:8080/"
        },
        "id": "mg7v3Nb5gBkc",
        "outputId": "74a6307a-a251-45c2-ae5b-2d648a610b26"
      },
      "execution_count": 22,
      "outputs": [
        {
          "output_type": "stream",
          "name": "stdout",
          "text": [
            "70.59347826086957\n"
          ]
        }
      ]
    }
  ]
}